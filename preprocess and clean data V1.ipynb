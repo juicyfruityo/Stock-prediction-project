{
 "metadata": {
  "language_info": {
   "codemirror_mode": {
    "name": "ipython",
    "version": 3
   },
   "file_extension": ".py",
   "mimetype": "text/x-python",
   "name": "python",
   "nbconvert_exporter": "python",
   "pygments_lexer": "ipython3",
   "version": "3.8.5"
  },
  "orig_nbformat": 2,
  "kernelspec": {
   "name": "python385jvsc74a57bd0eab32ca03ae73f46e289bbe34fe8c8422701d2517bd4f305301cce97d4bf4dfb",
   "display_name": "Python 3.8.5 64-bit ('base': conda)"
  }
 },
 "nbformat": 4,
 "nbformat_minor": 2,
 "cells": [
  {
   "cell_type": "code",
   "execution_count": 1,
   "metadata": {},
   "outputs": [],
   "source": [
    "import pandas as pd\n",
    "import numpy as np\n",
    "\n",
    "import matplotlib.pyplot as plt\n",
    "import seaborn as sns\n",
    "sns.set()"
   ]
  },
  {
   "cell_type": "code",
   "execution_count": 11,
   "metadata": {},
   "outputs": [],
   "source": [
    "df_fin = pd.read_csv('mlfi.csv', index_col=0)\n",
    "df_fin['date'] = pd.to_datetime(df_fin['date'])"
   ]
  },
  {
   "cell_type": "code",
   "execution_count": 12,
   "metadata": {},
   "outputs": [
    {
     "output_type": "execute_result",
     "data": {
      "text/plain": [
       "   stock_id       date  Advt_12M_Usd  Advt_3M_Usd  Advt_6M_Usd  \\\n",
       "1        13 2006-12-31          0.25         0.33         0.27   \n",
       "2        13 2007-01-31          0.25         0.32         0.28   \n",
       "3        13 2007-02-28          0.26         0.30         0.30   \n",
       "4        17 2015-03-31          0.73         0.64         0.70   \n",
       "5        17 2015-04-30          0.72         0.62         0.66   \n",
       "\n",
       "   Asset_Turnover  Bb_Yld    Bv  Capex_Ps_Cf  Capex_Sales  ...  Total_Capital  \\\n",
       "1            0.22    0.33  0.01         0.13         0.84  ...           0.02   \n",
       "2            0.22    0.40  0.01         0.13         0.84  ...           0.02   \n",
       "3            0.22    0.15  0.01         0.13         0.84  ...           0.02   \n",
       "4            0.40    0.47  0.01         0.70         0.74  ...           0.40   \n",
       "5            0.40    0.46  0.01         0.70         0.74  ...           0.40   \n",
       "\n",
       "   Total_Debt  Total_Debt_Capital  Total_Liabilities_Total_Assets  Vol1Y_Usd  \\\n",
       "1        0.27                 1.0                            0.92       0.84   \n",
       "2        0.27                 1.0                            0.92       0.84   \n",
       "3        0.27                 1.0                            0.92       0.87   \n",
       "4        0.75                 1.0                            1.00       1.00   \n",
       "5        0.75                 1.0                            1.00       1.00   \n",
       "\n",
       "   Vol3Y_Usd  R1M_Usd  R3M_Usd  R6M_Usd  R12M_Usd  \n",
       "1       0.88    0.089    0.104    0.344    -0.041  \n",
       "2       0.88    0.039    0.091   -0.011    -0.253  \n",
       "3       0.88   -0.012    0.101    0.118    -0.366  \n",
       "4       0.99    0.174   -0.144   -0.518    -0.376  \n",
       "5       0.99   -0.106   -0.576   -0.535    -0.113  \n",
       "\n",
       "[5 rows x 99 columns]"
      ],
      "text/html": "<div>\n<style scoped>\n    .dataframe tbody tr th:only-of-type {\n        vertical-align: middle;\n    }\n\n    .dataframe tbody tr th {\n        vertical-align: top;\n    }\n\n    .dataframe thead th {\n        text-align: right;\n    }\n</style>\n<table border=\"1\" class=\"dataframe\">\n  <thead>\n    <tr style=\"text-align: right;\">\n      <th></th>\n      <th>stock_id</th>\n      <th>date</th>\n      <th>Advt_12M_Usd</th>\n      <th>Advt_3M_Usd</th>\n      <th>Advt_6M_Usd</th>\n      <th>Asset_Turnover</th>\n      <th>Bb_Yld</th>\n      <th>Bv</th>\n      <th>Capex_Ps_Cf</th>\n      <th>Capex_Sales</th>\n      <th>...</th>\n      <th>Total_Capital</th>\n      <th>Total_Debt</th>\n      <th>Total_Debt_Capital</th>\n      <th>Total_Liabilities_Total_Assets</th>\n      <th>Vol1Y_Usd</th>\n      <th>Vol3Y_Usd</th>\n      <th>R1M_Usd</th>\n      <th>R3M_Usd</th>\n      <th>R6M_Usd</th>\n      <th>R12M_Usd</th>\n    </tr>\n  </thead>\n  <tbody>\n    <tr>\n      <th>1</th>\n      <td>13</td>\n      <td>2006-12-31</td>\n      <td>0.25</td>\n      <td>0.33</td>\n      <td>0.27</td>\n      <td>0.22</td>\n      <td>0.33</td>\n      <td>0.01</td>\n      <td>0.13</td>\n      <td>0.84</td>\n      <td>...</td>\n      <td>0.02</td>\n      <td>0.27</td>\n      <td>1.0</td>\n      <td>0.92</td>\n      <td>0.84</td>\n      <td>0.88</td>\n      <td>0.089</td>\n      <td>0.104</td>\n      <td>0.344</td>\n      <td>-0.041</td>\n    </tr>\n    <tr>\n      <th>2</th>\n      <td>13</td>\n      <td>2007-01-31</td>\n      <td>0.25</td>\n      <td>0.32</td>\n      <td>0.28</td>\n      <td>0.22</td>\n      <td>0.40</td>\n      <td>0.01</td>\n      <td>0.13</td>\n      <td>0.84</td>\n      <td>...</td>\n      <td>0.02</td>\n      <td>0.27</td>\n      <td>1.0</td>\n      <td>0.92</td>\n      <td>0.84</td>\n      <td>0.88</td>\n      <td>0.039</td>\n      <td>0.091</td>\n      <td>-0.011</td>\n      <td>-0.253</td>\n    </tr>\n    <tr>\n      <th>3</th>\n      <td>13</td>\n      <td>2007-02-28</td>\n      <td>0.26</td>\n      <td>0.30</td>\n      <td>0.30</td>\n      <td>0.22</td>\n      <td>0.15</td>\n      <td>0.01</td>\n      <td>0.13</td>\n      <td>0.84</td>\n      <td>...</td>\n      <td>0.02</td>\n      <td>0.27</td>\n      <td>1.0</td>\n      <td>0.92</td>\n      <td>0.87</td>\n      <td>0.88</td>\n      <td>-0.012</td>\n      <td>0.101</td>\n      <td>0.118</td>\n      <td>-0.366</td>\n    </tr>\n    <tr>\n      <th>4</th>\n      <td>17</td>\n      <td>2015-03-31</td>\n      <td>0.73</td>\n      <td>0.64</td>\n      <td>0.70</td>\n      <td>0.40</td>\n      <td>0.47</td>\n      <td>0.01</td>\n      <td>0.70</td>\n      <td>0.74</td>\n      <td>...</td>\n      <td>0.40</td>\n      <td>0.75</td>\n      <td>1.0</td>\n      <td>1.00</td>\n      <td>1.00</td>\n      <td>0.99</td>\n      <td>0.174</td>\n      <td>-0.144</td>\n      <td>-0.518</td>\n      <td>-0.376</td>\n    </tr>\n    <tr>\n      <th>5</th>\n      <td>17</td>\n      <td>2015-04-30</td>\n      <td>0.72</td>\n      <td>0.62</td>\n      <td>0.66</td>\n      <td>0.40</td>\n      <td>0.46</td>\n      <td>0.01</td>\n      <td>0.70</td>\n      <td>0.74</td>\n      <td>...</td>\n      <td>0.40</td>\n      <td>0.75</td>\n      <td>1.0</td>\n      <td>1.00</td>\n      <td>1.00</td>\n      <td>0.99</td>\n      <td>-0.106</td>\n      <td>-0.576</td>\n      <td>-0.535</td>\n      <td>-0.113</td>\n    </tr>\n  </tbody>\n</table>\n<p>5 rows × 99 columns</p>\n</div>"
     },
     "metadata": {},
     "execution_count": 12
    }
   ],
   "source": [
    "df_fin.head()"
   ]
  },
  {
   "cell_type": "code",
   "execution_count": 7,
   "metadata": {},
   "outputs": [
    {
     "output_type": "execute_result",
     "data": {
      "text/plain": [
       "(283380, 99)"
      ]
     },
     "metadata": {},
     "execution_count": 7
    }
   ],
   "source": [
    "df_fin.shape"
   ]
  },
  {
   "cell_type": "code",
   "execution_count": 6,
   "metadata": {},
   "outputs": [
    {
     "output_type": "execute_result",
     "data": {
      "text/plain": [
       "            stock_id   Advt_12M_Usd    Advt_3M_Usd    Advt_6M_Usd  \\\n",
       "count  283380.000000  283380.000000  283380.000000  283380.000000   \n",
       "mean      605.143285       0.500312       0.500528       0.500402   \n",
       "std       350.260600       0.287845       0.287816       0.287841   \n",
       "min         1.000000       0.010000       0.010000       0.010000   \n",
       "25%       302.000000       0.250000       0.250000       0.250000   \n",
       "50%       605.000000       0.500000       0.500000       0.500000   \n",
       "75%       909.000000       0.750000       0.750000       0.750000   \n",
       "max      1212.000000       1.000000       1.000000       1.000000   \n",
       "\n",
       "       Asset_Turnover         Bb_Yld             Bv    Capex_Ps_Cf  \\\n",
       "count   283380.000000  283380.000000  283380.000000  283380.000000   \n",
       "mean         0.502258       0.504533       0.501348       0.496572   \n",
       "std          0.287403       0.288816       0.288121       0.283728   \n",
       "min          0.010000       0.010000       0.010000       0.010000   \n",
       "25%          0.250000       0.250000       0.250000       0.250000   \n",
       "50%          0.500000       0.505000       0.500000       0.500000   \n",
       "75%          0.750000       0.750000       0.750000       0.740000   \n",
       "max          1.000000       1.000000       1.000000       1.000000   \n",
       "\n",
       "         Capex_Sales    Cash_Div_Cf  ...  Total_Capital     Total_Debt  \\\n",
       "count  283380.000000  283380.000000  ...  283380.000000  283380.000000   \n",
       "mean        0.499456       0.496544  ...       0.501144       0.501177   \n",
       "std         0.285317       0.281583  ...       0.288177       0.288317   \n",
       "min         0.010000       0.010000  ...       0.010000       0.010000   \n",
       "25%         0.250000       0.260000  ...       0.250000       0.250000   \n",
       "50%         0.500000       0.500000  ...       0.500000       0.500000   \n",
       "75%         0.740000       0.730000  ...       0.750000       0.750000   \n",
       "max         1.000000       1.000000  ...       1.000000       1.000000   \n",
       "\n",
       "       Total_Debt_Capital  Total_Liabilities_Total_Assets      Vol1Y_Usd  \\\n",
       "count       283380.000000                   283380.000000  283380.000000   \n",
       "mean             0.499720                        0.501921       0.500219   \n",
       "std              0.286299                        0.288845       0.287317   \n",
       "min              0.010000                        0.010000       0.010000   \n",
       "25%              0.250000                        0.250000       0.250000   \n",
       "50%              0.500000                        0.500000       0.500000   \n",
       "75%              0.750000                        0.750000       0.750000   \n",
       "max              1.000000                        1.000000       1.000000   \n",
       "\n",
       "           Vol3Y_Usd        R1M_Usd        R3M_Usd        R6M_Usd  \\\n",
       "count  283380.000000  283380.000000  283380.000000  283380.000000   \n",
       "mean        0.500356       0.012633       0.036206       0.071358   \n",
       "std         0.287291       0.177877       0.331932       0.531054   \n",
       "min         0.010000      -0.922000      -0.929000      -0.980000   \n",
       "25%         0.250000      -0.044000      -0.066000      -0.083000   \n",
       "50%         0.500000       0.011000       0.027000       0.045000   \n",
       "75%         0.750000       0.064000       0.122000       0.183000   \n",
       "max         1.000000      30.176000      39.389000     106.929000   \n",
       "\n",
       "            R12M_Usd  \n",
       "count  283380.000000  \n",
       "mean        0.135854  \n",
       "std         0.765346  \n",
       "min        -0.991000  \n",
       "25%        -0.098000  \n",
       "50%         0.073000  \n",
       "75%         0.281000  \n",
       "max        95.972000  \n",
       "\n",
       "[8 rows x 98 columns]"
      ],
      "text/html": "<div>\n<style scoped>\n    .dataframe tbody tr th:only-of-type {\n        vertical-align: middle;\n    }\n\n    .dataframe tbody tr th {\n        vertical-align: top;\n    }\n\n    .dataframe thead th {\n        text-align: right;\n    }\n</style>\n<table border=\"1\" class=\"dataframe\">\n  <thead>\n    <tr style=\"text-align: right;\">\n      <th></th>\n      <th>stock_id</th>\n      <th>Advt_12M_Usd</th>\n      <th>Advt_3M_Usd</th>\n      <th>Advt_6M_Usd</th>\n      <th>Asset_Turnover</th>\n      <th>Bb_Yld</th>\n      <th>Bv</th>\n      <th>Capex_Ps_Cf</th>\n      <th>Capex_Sales</th>\n      <th>Cash_Div_Cf</th>\n      <th>...</th>\n      <th>Total_Capital</th>\n      <th>Total_Debt</th>\n      <th>Total_Debt_Capital</th>\n      <th>Total_Liabilities_Total_Assets</th>\n      <th>Vol1Y_Usd</th>\n      <th>Vol3Y_Usd</th>\n      <th>R1M_Usd</th>\n      <th>R3M_Usd</th>\n      <th>R6M_Usd</th>\n      <th>R12M_Usd</th>\n    </tr>\n  </thead>\n  <tbody>\n    <tr>\n      <th>count</th>\n      <td>283380.000000</td>\n      <td>283380.000000</td>\n      <td>283380.000000</td>\n      <td>283380.000000</td>\n      <td>283380.000000</td>\n      <td>283380.000000</td>\n      <td>283380.000000</td>\n      <td>283380.000000</td>\n      <td>283380.000000</td>\n      <td>283380.000000</td>\n      <td>...</td>\n      <td>283380.000000</td>\n      <td>283380.000000</td>\n      <td>283380.000000</td>\n      <td>283380.000000</td>\n      <td>283380.000000</td>\n      <td>283380.000000</td>\n      <td>283380.000000</td>\n      <td>283380.000000</td>\n      <td>283380.000000</td>\n      <td>283380.000000</td>\n    </tr>\n    <tr>\n      <th>mean</th>\n      <td>605.143285</td>\n      <td>0.500312</td>\n      <td>0.500528</td>\n      <td>0.500402</td>\n      <td>0.502258</td>\n      <td>0.504533</td>\n      <td>0.501348</td>\n      <td>0.496572</td>\n      <td>0.499456</td>\n      <td>0.496544</td>\n      <td>...</td>\n      <td>0.501144</td>\n      <td>0.501177</td>\n      <td>0.499720</td>\n      <td>0.501921</td>\n      <td>0.500219</td>\n      <td>0.500356</td>\n      <td>0.012633</td>\n      <td>0.036206</td>\n      <td>0.071358</td>\n      <td>0.135854</td>\n    </tr>\n    <tr>\n      <th>std</th>\n      <td>350.260600</td>\n      <td>0.287845</td>\n      <td>0.287816</td>\n      <td>0.287841</td>\n      <td>0.287403</td>\n      <td>0.288816</td>\n      <td>0.288121</td>\n      <td>0.283728</td>\n      <td>0.285317</td>\n      <td>0.281583</td>\n      <td>...</td>\n      <td>0.288177</td>\n      <td>0.288317</td>\n      <td>0.286299</td>\n      <td>0.288845</td>\n      <td>0.287317</td>\n      <td>0.287291</td>\n      <td>0.177877</td>\n      <td>0.331932</td>\n      <td>0.531054</td>\n      <td>0.765346</td>\n    </tr>\n    <tr>\n      <th>min</th>\n      <td>1.000000</td>\n      <td>0.010000</td>\n      <td>0.010000</td>\n      <td>0.010000</td>\n      <td>0.010000</td>\n      <td>0.010000</td>\n      <td>0.010000</td>\n      <td>0.010000</td>\n      <td>0.010000</td>\n      <td>0.010000</td>\n      <td>...</td>\n      <td>0.010000</td>\n      <td>0.010000</td>\n      <td>0.010000</td>\n      <td>0.010000</td>\n      <td>0.010000</td>\n      <td>0.010000</td>\n      <td>-0.922000</td>\n      <td>-0.929000</td>\n      <td>-0.980000</td>\n      <td>-0.991000</td>\n    </tr>\n    <tr>\n      <th>25%</th>\n      <td>302.000000</td>\n      <td>0.250000</td>\n      <td>0.250000</td>\n      <td>0.250000</td>\n      <td>0.250000</td>\n      <td>0.250000</td>\n      <td>0.250000</td>\n      <td>0.250000</td>\n      <td>0.250000</td>\n      <td>0.260000</td>\n      <td>...</td>\n      <td>0.250000</td>\n      <td>0.250000</td>\n      <td>0.250000</td>\n      <td>0.250000</td>\n      <td>0.250000</td>\n      <td>0.250000</td>\n      <td>-0.044000</td>\n      <td>-0.066000</td>\n      <td>-0.083000</td>\n      <td>-0.098000</td>\n    </tr>\n    <tr>\n      <th>50%</th>\n      <td>605.000000</td>\n      <td>0.500000</td>\n      <td>0.500000</td>\n      <td>0.500000</td>\n      <td>0.500000</td>\n      <td>0.505000</td>\n      <td>0.500000</td>\n      <td>0.500000</td>\n      <td>0.500000</td>\n      <td>0.500000</td>\n      <td>...</td>\n      <td>0.500000</td>\n      <td>0.500000</td>\n      <td>0.500000</td>\n      <td>0.500000</td>\n      <td>0.500000</td>\n      <td>0.500000</td>\n      <td>0.011000</td>\n      <td>0.027000</td>\n      <td>0.045000</td>\n      <td>0.073000</td>\n    </tr>\n    <tr>\n      <th>75%</th>\n      <td>909.000000</td>\n      <td>0.750000</td>\n      <td>0.750000</td>\n      <td>0.750000</td>\n      <td>0.750000</td>\n      <td>0.750000</td>\n      <td>0.750000</td>\n      <td>0.740000</td>\n      <td>0.740000</td>\n      <td>0.730000</td>\n      <td>...</td>\n      <td>0.750000</td>\n      <td>0.750000</td>\n      <td>0.750000</td>\n      <td>0.750000</td>\n      <td>0.750000</td>\n      <td>0.750000</td>\n      <td>0.064000</td>\n      <td>0.122000</td>\n      <td>0.183000</td>\n      <td>0.281000</td>\n    </tr>\n    <tr>\n      <th>max</th>\n      <td>1212.000000</td>\n      <td>1.000000</td>\n      <td>1.000000</td>\n      <td>1.000000</td>\n      <td>1.000000</td>\n      <td>1.000000</td>\n      <td>1.000000</td>\n      <td>1.000000</td>\n      <td>1.000000</td>\n      <td>1.000000</td>\n      <td>...</td>\n      <td>1.000000</td>\n      <td>1.000000</td>\n      <td>1.000000</td>\n      <td>1.000000</td>\n      <td>1.000000</td>\n      <td>1.000000</td>\n      <td>30.176000</td>\n      <td>39.389000</td>\n      <td>106.929000</td>\n      <td>95.972000</td>\n    </tr>\n  </tbody>\n</table>\n<p>8 rows × 98 columns</p>\n</div>"
     },
     "metadata": {},
     "execution_count": 6
    }
   ],
   "source": [
    "df_fin.describe()"
   ]
  },
  {
   "cell_type": "code",
   "execution_count": 18,
   "metadata": {},
   "outputs": [
    {
     "output_type": "execute_result",
     "data": {
      "text/plain": [
       "((1207,), Timestamp('1998-11-30 00:00:00'), Timestamp('2019-03-31 00:00:00'))"
      ]
     },
     "metadata": {},
     "execution_count": 18
    }
   ],
   "source": [
    "df_fin['stock_id'].unique().shape, df_fin['date'].min(), df_fin['date'].max()"
   ]
  },
  {
   "source": [
    "#### Считаем сколько данных о каждой компании в каждом году. \n",
    "#### Для каждой компании найдём максимальну и минимальную даты, и оценим, есть ли разрыввы во времени для этих дат."
   ],
   "cell_type": "markdown",
   "metadata": {}
  },
  {
   "cell_type": "code",
   "execution_count": null,
   "metadata": {},
   "outputs": [],
   "source": [
    "uniq_stocks = df_fin['stock_id'].unique()\n",
    "stock_dates = {}\n",
    "\n",
    "for _id in uniq_stocks:\n",
    "    date_min = df_fin[df_fin['stock_id'] == _id]['date'].min()\n",
    "    date_max = df_fin[df_fin['stock_id'] == _id]['date'].max()\n",
    "\n",
    "    "
   ]
  },
  {
   "cell_type": "code",
   "execution_count": null,
   "metadata": {},
   "outputs": [],
   "source": []
  },
  {
   "cell_type": "code",
   "execution_count": null,
   "metadata": {},
   "outputs": [],
   "source": []
  },
  {
   "cell_type": "code",
   "execution_count": null,
   "metadata": {},
   "outputs": [],
   "source": []
  },
  {
   "cell_type": "code",
   "execution_count": null,
   "metadata": {},
   "outputs": [],
   "source": []
  },
  {
   "cell_type": "code",
   "execution_count": null,
   "metadata": {},
   "outputs": [],
   "source": []
  }
 ]
}